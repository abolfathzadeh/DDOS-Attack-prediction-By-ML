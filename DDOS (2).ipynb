{
 "cells": [
  {
   "cell_type": "code",
   "execution_count": 1,
   "id": "12f19e6f",
   "metadata": {},
   "outputs": [],
   "source": [
    "import sklearn\n",
    "import pandas as pd\n",
    "import numpy as np\n",
    "from sklearn.model_selection import train_test_split\n",
    "from sklearn.pipeline import make_pipeline\n",
    "from sklearn.preprocessing import StandardScaler\n",
    "from sklearn.metrics import mean_absolute_error, mean_squared_error, mean_squared_log_error, median_absolute_error"
   ]
  },
  {
   "cell_type": "code",
   "execution_count": 2,
   "id": "a12caba8",
   "metadata": {},
   "outputs": [],
   "source": [
    "import warnings\n",
    "warnings.filterwarnings('ignore')"
   ]
  },
  {
   "cell_type": "code",
   "execution_count": 3,
   "id": "136f2740",
   "metadata": {
    "scrolled": true
   },
   "outputs": [
    {
     "name": "stdout",
     "output_type": "stream",
     "text": [
      "           dt  switch        src       dst  pktcount  bytecount  dur  \\\n",
      "0       11425       1   10.0.0.1  10.0.0.8     45304   48294064  100   \n",
      "1       11605       1   10.0.0.1  10.0.0.8    126395  134737070  280   \n",
      "2       11425       1   10.0.0.2  10.0.0.8     90333   96294978  200   \n",
      "3       11425       1   10.0.0.2  10.0.0.8     90333   96294978  200   \n",
      "4       11425       1   10.0.0.2  10.0.0.8     90333   96294978  200   \n",
      "...       ...     ...        ...       ...       ...        ...  ...   \n",
      "104340   5262       3   10.0.0.5  10.0.0.7        79       7742   81   \n",
      "104341   5262       3   10.0.0.5  10.0.0.7        79       7742   81   \n",
      "104342   5262       3  10.0.0.11  10.0.0.5        31       3038   31   \n",
      "104343   5262       3  10.0.0.11  10.0.0.5        31       3038   31   \n",
      "104344   5262       3  10.0.0.11  10.0.0.5        31       3038   31   \n",
      "\n",
      "         dur_nsec       tot_dur  flows  ...  pktrate  Pairflow  Protocol  \\\n",
      "0       716000000  1.010000e+11      3  ...      451         0       UDP   \n",
      "1       734000000  2.810000e+11      2  ...      451         0       UDP   \n",
      "2       744000000  2.010000e+11      3  ...      451         0       UDP   \n",
      "3       744000000  2.010000e+11      3  ...      451         0       UDP   \n",
      "4       744000000  2.010000e+11      3  ...      451         0       UDP   \n",
      "...           ...           ...    ...  ...      ...       ...       ...   \n",
      "104340  842000000  8.184200e+10      5  ...        0         0      ICMP   \n",
      "104341  842000000  8.184200e+10      5  ...        0         0      ICMP   \n",
      "104342  805000000  3.180500e+10      5  ...        1         0      ICMP   \n",
      "104343  805000000  3.180500e+10      5  ...        1         0      ICMP   \n",
      "104344  805000000  3.180500e+10      5  ...        1         0      ICMP   \n",
      "\n",
      "        port_no   tx_bytes rx_bytes  tx_kbps  rx_kbps  tot_kbps  label  \n",
      "0             3  143928631     3917        0      0.0       0.0      0  \n",
      "1             4       3842     3520        0      0.0       0.0      0  \n",
      "2             1       3795     1242        0      0.0       0.0      0  \n",
      "3             2       3688     1492        0      0.0       0.0      0  \n",
      "4             3       3413     3665        0      0.0       0.0      0  \n",
      "...         ...        ...      ...      ...      ...       ...    ...  \n",
      "104340        1      15209    12720        1      1.0       2.0      0  \n",
      "104341        3      15099    14693        1      1.0       2.0      0  \n",
      "104342        2       3409     3731        0      0.0       0.0      0  \n",
      "104343        1      15209    12720        1      1.0       2.0      0  \n",
      "104344        3      15099    14693        1      1.0       2.0      0  \n",
      "\n",
      "[104345 rows x 23 columns]\n"
     ]
    }
   ],
   "source": [
    "#Import Dataset \n",
    "import pandas as pd\n",
    "\n",
    "#Print Dataset to confirm number of rows and columns\n",
    "df1 = pd.read_csv(r'C:\\Uni_doc\\dataset_sdn.csv')\n",
    "print(df1)"
   ]
  },
  {
   "cell_type": "markdown",
   "id": "dceb7392",
   "metadata": {},
   "source": [
    "\n",
    "# DATA CLEANING\n"
   ]
  },
  {
   "cell_type": "code",
   "execution_count": 4,
   "id": "32a664d7",
   "metadata": {},
   "outputs": [],
   "source": [
    "#Statistics on missing values per column\n",
    "df1.isnull().sum()\n",
    "#Remove missing rows for'rx_kbps'\n",
    "df1.dropna(\n",
    "   axis=0,\n",
    "   subset=['rx_kbps'],\n",
    "   inplace=True\n",
    ")\n",
    "#Remove missing rows for'tot_kbps'\n",
    "df1.dropna(\n",
    "   axis=0,\n",
    "   subset=['tot_kbps'],\n",
    "   inplace=True\n",
    ")"
   ]
  },
  {
   "cell_type": "code",
   "execution_count": 5,
   "id": "796e4bb1",
   "metadata": {},
   "outputs": [
    {
     "data": {
      "text/plain": [
       "dt             0\n",
       "switch         0\n",
       "src            0\n",
       "dst            0\n",
       "pktcount       0\n",
       "bytecount      0\n",
       "dur            0\n",
       "dur_nsec       0\n",
       "tot_dur        0\n",
       "flows          0\n",
       "packetins      0\n",
       "pktperflow     0\n",
       "byteperflow    0\n",
       "pktrate        0\n",
       "Pairflow       0\n",
       "Protocol       0\n",
       "port_no        0\n",
       "tx_bytes       0\n",
       "rx_bytes       0\n",
       "tx_kbps        0\n",
       "rx_kbps        0\n",
       "tot_kbps       0\n",
       "label          0\n",
       "dtype: int64"
      ]
     },
     "execution_count": 5,
     "metadata": {},
     "output_type": "execute_result"
    }
   ],
   "source": [
    "#Statistics on missing values per column again\n",
    "df1.isnull().sum()"
   ]
  },
  {
   "cell_type": "code",
   "execution_count": 6,
   "id": "0dfec1ef",
   "metadata": {},
   "outputs": [
    {
     "name": "stdout",
     "output_type": "stream",
     "text": [
      "           dt  switch        src       dst  pktcount  bytecount  dur  \\\n",
      "0       11425       1   10.0.0.1  10.0.0.8     45304   48294064  100   \n",
      "1       11605       1   10.0.0.1  10.0.0.8    126395  134737070  280   \n",
      "2       11425       1   10.0.0.2  10.0.0.8     90333   96294978  200   \n",
      "3       11425       1   10.0.0.2  10.0.0.8     90333   96294978  200   \n",
      "4       11425       1   10.0.0.2  10.0.0.8     90333   96294978  200   \n",
      "...       ...     ...        ...       ...       ...        ...  ...   \n",
      "104340   5262       3   10.0.0.5  10.0.0.7        79       7742   81   \n",
      "104341   5262       3   10.0.0.5  10.0.0.7        79       7742   81   \n",
      "104342   5262       3  10.0.0.11  10.0.0.5        31       3038   31   \n",
      "104343   5262       3  10.0.0.11  10.0.0.5        31       3038   31   \n",
      "104344   5262       3  10.0.0.11  10.0.0.5        31       3038   31   \n",
      "\n",
      "         dur_nsec       tot_dur  flows  ...  pktrate  Pairflow  Protocol  \\\n",
      "0       716000000  1.010000e+11      3  ...      451         0       UDP   \n",
      "1       734000000  2.810000e+11      2  ...      451         0       UDP   \n",
      "2       744000000  2.010000e+11      3  ...      451         0       UDP   \n",
      "3       744000000  2.010000e+11      3  ...      451         0       UDP   \n",
      "4       744000000  2.010000e+11      3  ...      451         0       UDP   \n",
      "...           ...           ...    ...  ...      ...       ...       ...   \n",
      "104340  842000000  8.184200e+10      5  ...        0         0      ICMP   \n",
      "104341  842000000  8.184200e+10      5  ...        0         0      ICMP   \n",
      "104342  805000000  3.180500e+10      5  ...        1         0      ICMP   \n",
      "104343  805000000  3.180500e+10      5  ...        1         0      ICMP   \n",
      "104344  805000000  3.180500e+10      5  ...        1         0      ICMP   \n",
      "\n",
      "        port_no   tx_bytes rx_bytes  tx_kbps  rx_kbps  tot_kbps  label  \n",
      "0             3  143928631     3917        0      0.0       0.0      0  \n",
      "1             4       3842     3520        0      0.0       0.0      0  \n",
      "2             1       3795     1242        0      0.0       0.0      0  \n",
      "3             2       3688     1492        0      0.0       0.0      0  \n",
      "4             3       3413     3665        0      0.0       0.0      0  \n",
      "...         ...        ...      ...      ...      ...       ...    ...  \n",
      "104340        1      15209    12720        1      1.0       2.0      0  \n",
      "104341        3      15099    14693        1      1.0       2.0      0  \n",
      "104342        2       3409     3731        0      0.0       0.0      0  \n",
      "104343        1      15209    12720        1      1.0       2.0      0  \n",
      "104344        3      15099    14693        1      1.0       2.0      0  \n",
      "\n",
      "[103839 rows x 23 columns]\n"
     ]
    }
   ],
   "source": [
    "print(df1)"
   ]
  },
  {
   "cell_type": "markdown",
   "id": "3642788f",
   "metadata": {},
   "source": [
    "#  correllation"
   ]
  },
  {
   "cell_type": "code",
   "execution_count": 7,
   "id": "ab1f96d1",
   "metadata": {},
   "outputs": [
    {
     "data": {
      "text/html": [
       "<div>\n",
       "<style scoped>\n",
       "    .dataframe tbody tr th:only-of-type {\n",
       "        vertical-align: middle;\n",
       "    }\n",
       "\n",
       "    .dataframe tbody tr th {\n",
       "        vertical-align: top;\n",
       "    }\n",
       "\n",
       "    .dataframe thead th {\n",
       "        text-align: right;\n",
       "    }\n",
       "</style>\n",
       "<table border=\"1\" class=\"dataframe\">\n",
       "  <thead>\n",
       "    <tr style=\"text-align: right;\">\n",
       "      <th></th>\n",
       "      <th>dt</th>\n",
       "      <th>switch</th>\n",
       "      <th>pktcount</th>\n",
       "      <th>bytecount</th>\n",
       "      <th>dur</th>\n",
       "      <th>dur_nsec</th>\n",
       "      <th>tot_dur</th>\n",
       "      <th>flows</th>\n",
       "      <th>packetins</th>\n",
       "      <th>pktperflow</th>\n",
       "      <th>byteperflow</th>\n",
       "      <th>pktrate</th>\n",
       "      <th>Pairflow</th>\n",
       "      <th>port_no</th>\n",
       "      <th>tx_bytes</th>\n",
       "      <th>rx_bytes</th>\n",
       "      <th>tx_kbps</th>\n",
       "      <th>rx_kbps</th>\n",
       "      <th>tot_kbps</th>\n",
       "      <th>label</th>\n",
       "    </tr>\n",
       "  </thead>\n",
       "  <tbody>\n",
       "    <tr>\n",
       "      <th>dt</th>\n",
       "      <td>1.000000</td>\n",
       "      <td>-0.006373</td>\n",
       "      <td>-0.174345</td>\n",
       "      <td>-0.289111</td>\n",
       "      <td>0.271664</td>\n",
       "      <td>-0.166514</td>\n",
       "      <td>0.271475</td>\n",
       "      <td>0.327694</td>\n",
       "      <td>0.043491</td>\n",
       "      <td>-0.233717</td>\n",
       "      <td>-0.308270</td>\n",
       "      <td>-0.233834</td>\n",
       "      <td>0.713059</td>\n",
       "      <td>-0.026066</td>\n",
       "      <td>0.077486</td>\n",
       "      <td>0.088301</td>\n",
       "      <td>-0.035187</td>\n",
       "      <td>-0.041620</td>\n",
       "      <td>-0.054373</td>\n",
       "      <td>-0.108798</td>\n",
       "    </tr>\n",
       "    <tr>\n",
       "      <th>switch</th>\n",
       "      <td>-0.006373</td>\n",
       "      <td>1.000000</td>\n",
       "      <td>-0.057639</td>\n",
       "      <td>-0.168475</td>\n",
       "      <td>-0.023560</td>\n",
       "      <td>-0.077123</td>\n",
       "      <td>-0.023687</td>\n",
       "      <td>-0.028017</td>\n",
       "      <td>0.199984</td>\n",
       "      <td>-0.036071</td>\n",
       "      <td>-0.112878</td>\n",
       "      <td>-0.036079</td>\n",
       "      <td>0.090657</td>\n",
       "      <td>-0.006854</td>\n",
       "      <td>-0.050625</td>\n",
       "      <td>-0.058007</td>\n",
       "      <td>-0.032980</td>\n",
       "      <td>-0.039025</td>\n",
       "      <td>-0.050972</td>\n",
       "      <td>0.027644</td>\n",
       "    </tr>\n",
       "    <tr>\n",
       "      <th>pktcount</th>\n",
       "      <td>-0.174345</td>\n",
       "      <td>-0.057639</td>\n",
       "      <td>1.000000</td>\n",
       "      <td>0.675792</td>\n",
       "      <td>0.023222</td>\n",
       "      <td>0.034283</td>\n",
       "      <td>0.023283</td>\n",
       "      <td>-0.257467</td>\n",
       "      <td>0.275867</td>\n",
       "      <td>0.470065</td>\n",
       "      <td>0.290614</td>\n",
       "      <td>0.470097</td>\n",
       "      <td>-0.085007</td>\n",
       "      <td>0.006073</td>\n",
       "      <td>0.025893</td>\n",
       "      <td>0.029731</td>\n",
       "      <td>0.001984</td>\n",
       "      <td>0.002328</td>\n",
       "      <td>0.003054</td>\n",
       "      <td>0.403217</td>\n",
       "    </tr>\n",
       "    <tr>\n",
       "      <th>bytecount</th>\n",
       "      <td>-0.289111</td>\n",
       "      <td>-0.168475</td>\n",
       "      <td>0.675792</td>\n",
       "      <td>1.000000</td>\n",
       "      <td>0.038033</td>\n",
       "      <td>0.029418</td>\n",
       "      <td>0.038034</td>\n",
       "      <td>-0.244514</td>\n",
       "      <td>-0.124840</td>\n",
       "      <td>0.333530</td>\n",
       "      <td>0.533201</td>\n",
       "      <td>0.333553</td>\n",
       "      <td>-0.388628</td>\n",
       "      <td>-0.008322</td>\n",
       "      <td>0.007110</td>\n",
       "      <td>0.008339</td>\n",
       "      <td>0.049803</td>\n",
       "      <td>0.058850</td>\n",
       "      <td>0.076920</td>\n",
       "      <td>0.278051</td>\n",
       "    </tr>\n",
       "    <tr>\n",
       "      <th>dur</th>\n",
       "      <td>0.271664</td>\n",
       "      <td>-0.023560</td>\n",
       "      <td>0.023222</td>\n",
       "      <td>0.038033</td>\n",
       "      <td>1.000000</td>\n",
       "      <td>-0.056219</td>\n",
       "      <td>0.999998</td>\n",
       "      <td>0.176351</td>\n",
       "      <td>-0.124797</td>\n",
       "      <td>-0.329504</td>\n",
       "      <td>-0.259843</td>\n",
       "      <td>-0.329764</td>\n",
       "      <td>0.180537</td>\n",
       "      <td>-0.002026</td>\n",
       "      <td>0.154209</td>\n",
       "      <td>0.176115</td>\n",
       "      <td>-0.141224</td>\n",
       "      <td>-0.166916</td>\n",
       "      <td>-0.218143</td>\n",
       "      <td>-0.098734</td>\n",
       "    </tr>\n",
       "    <tr>\n",
       "      <th>dur_nsec</th>\n",
       "      <td>-0.166514</td>\n",
       "      <td>-0.077123</td>\n",
       "      <td>0.034283</td>\n",
       "      <td>0.029418</td>\n",
       "      <td>-0.056219</td>\n",
       "      <td>1.000000</td>\n",
       "      <td>-0.054854</td>\n",
       "      <td>-0.010445</td>\n",
       "      <td>-0.059464</td>\n",
       "      <td>0.043277</td>\n",
       "      <td>0.047295</td>\n",
       "      <td>0.043279</td>\n",
       "      <td>-0.211168</td>\n",
       "      <td>0.020864</td>\n",
       "      <td>0.007767</td>\n",
       "      <td>0.008926</td>\n",
       "      <td>-0.035533</td>\n",
       "      <td>-0.042023</td>\n",
       "      <td>-0.054903</td>\n",
       "      <td>0.029161</td>\n",
       "    </tr>\n",
       "    <tr>\n",
       "      <th>tot_dur</th>\n",
       "      <td>0.271475</td>\n",
       "      <td>-0.023687</td>\n",
       "      <td>0.023283</td>\n",
       "      <td>0.038034</td>\n",
       "      <td>0.999998</td>\n",
       "      <td>-0.054854</td>\n",
       "      <td>1.000000</td>\n",
       "      <td>0.176352</td>\n",
       "      <td>-0.124876</td>\n",
       "      <td>-0.329483</td>\n",
       "      <td>-0.259831</td>\n",
       "      <td>-0.329744</td>\n",
       "      <td>0.180285</td>\n",
       "      <td>-0.001988</td>\n",
       "      <td>0.154251</td>\n",
       "      <td>0.176162</td>\n",
       "      <td>-0.141305</td>\n",
       "      <td>-0.167011</td>\n",
       "      <td>-0.218268</td>\n",
       "      <td>-0.098745</td>\n",
       "    </tr>\n",
       "    <tr>\n",
       "      <th>flows</th>\n",
       "      <td>0.327694</td>\n",
       "      <td>-0.028017</td>\n",
       "      <td>-0.257467</td>\n",
       "      <td>-0.244514</td>\n",
       "      <td>0.176351</td>\n",
       "      <td>-0.010445</td>\n",
       "      <td>0.176352</td>\n",
       "      <td>1.000000</td>\n",
       "      <td>0.047415</td>\n",
       "      <td>-0.212795</td>\n",
       "      <td>-0.246311</td>\n",
       "      <td>-0.212924</td>\n",
       "      <td>0.390747</td>\n",
       "      <td>0.029236</td>\n",
       "      <td>0.165628</td>\n",
       "      <td>0.189312</td>\n",
       "      <td>0.155590</td>\n",
       "      <td>0.183821</td>\n",
       "      <td>0.240285</td>\n",
       "      <td>-0.181510</td>\n",
       "    </tr>\n",
       "    <tr>\n",
       "      <th>packetins</th>\n",
       "      <td>0.043491</td>\n",
       "      <td>0.199984</td>\n",
       "      <td>0.275867</td>\n",
       "      <td>-0.124840</td>\n",
       "      <td>-0.124797</td>\n",
       "      <td>-0.059464</td>\n",
       "      <td>-0.124876</td>\n",
       "      <td>0.047415</td>\n",
       "      <td>1.000000</td>\n",
       "      <td>0.185407</td>\n",
       "      <td>-0.106459</td>\n",
       "      <td>0.185469</td>\n",
       "      <td>0.269968</td>\n",
       "      <td>0.000787</td>\n",
       "      <td>0.108195</td>\n",
       "      <td>0.124032</td>\n",
       "      <td>0.037910</td>\n",
       "      <td>0.044762</td>\n",
       "      <td>0.058529</td>\n",
       "      <td>-0.002489</td>\n",
       "    </tr>\n",
       "    <tr>\n",
       "      <th>pktperflow</th>\n",
       "      <td>-0.233717</td>\n",
       "      <td>-0.036071</td>\n",
       "      <td>0.470065</td>\n",
       "      <td>0.333530</td>\n",
       "      <td>-0.329504</td>\n",
       "      <td>0.043277</td>\n",
       "      <td>-0.329483</td>\n",
       "      <td>-0.212795</td>\n",
       "      <td>0.185407</td>\n",
       "      <td>1.000000</td>\n",
       "      <td>0.812940</td>\n",
       "      <td>0.999999</td>\n",
       "      <td>-0.171700</td>\n",
       "      <td>0.004801</td>\n",
       "      <td>-0.053207</td>\n",
       "      <td>-0.060848</td>\n",
       "      <td>0.105162</td>\n",
       "      <td>0.124257</td>\n",
       "      <td>0.162416</td>\n",
       "      <td>0.089608</td>\n",
       "    </tr>\n",
       "    <tr>\n",
       "      <th>byteperflow</th>\n",
       "      <td>-0.308270</td>\n",
       "      <td>-0.112878</td>\n",
       "      <td>0.290614</td>\n",
       "      <td>0.533201</td>\n",
       "      <td>-0.259843</td>\n",
       "      <td>0.047295</td>\n",
       "      <td>-0.259831</td>\n",
       "      <td>-0.246311</td>\n",
       "      <td>-0.106459</td>\n",
       "      <td>0.812940</td>\n",
       "      <td>1.000000</td>\n",
       "      <td>0.812940</td>\n",
       "      <td>-0.396559</td>\n",
       "      <td>-0.005831</td>\n",
       "      <td>-0.059418</td>\n",
       "      <td>-0.067954</td>\n",
       "      <td>0.097287</td>\n",
       "      <td>0.114963</td>\n",
       "      <td>0.150260</td>\n",
       "      <td>-0.014160</td>\n",
       "    </tr>\n",
       "    <tr>\n",
       "      <th>pktrate</th>\n",
       "      <td>-0.233834</td>\n",
       "      <td>-0.036079</td>\n",
       "      <td>0.470097</td>\n",
       "      <td>0.333553</td>\n",
       "      <td>-0.329764</td>\n",
       "      <td>0.043279</td>\n",
       "      <td>-0.329744</td>\n",
       "      <td>-0.212924</td>\n",
       "      <td>0.185469</td>\n",
       "      <td>0.999999</td>\n",
       "      <td>0.812940</td>\n",
       "      <td>1.000000</td>\n",
       "      <td>-0.171783</td>\n",
       "      <td>0.004802</td>\n",
       "      <td>-0.053265</td>\n",
       "      <td>-0.060914</td>\n",
       "      <td>0.105191</td>\n",
       "      <td>0.124291</td>\n",
       "      <td>0.162461</td>\n",
       "      <td>0.089801</td>\n",
       "    </tr>\n",
       "    <tr>\n",
       "      <th>Pairflow</th>\n",
       "      <td>0.713059</td>\n",
       "      <td>0.090657</td>\n",
       "      <td>-0.085007</td>\n",
       "      <td>-0.388628</td>\n",
       "      <td>0.180537</td>\n",
       "      <td>-0.211168</td>\n",
       "      <td>0.180285</td>\n",
       "      <td>0.390747</td>\n",
       "      <td>0.269968</td>\n",
       "      <td>-0.171700</td>\n",
       "      <td>-0.396559</td>\n",
       "      <td>-0.171783</td>\n",
       "      <td>1.000000</td>\n",
       "      <td>-0.022703</td>\n",
       "      <td>0.091515</td>\n",
       "      <td>0.104517</td>\n",
       "      <td>0.007350</td>\n",
       "      <td>0.008644</td>\n",
       "      <td>0.011325</td>\n",
       "      <td>-0.047474</td>\n",
       "    </tr>\n",
       "    <tr>\n",
       "      <th>port_no</th>\n",
       "      <td>-0.026066</td>\n",
       "      <td>-0.006854</td>\n",
       "      <td>0.006073</td>\n",
       "      <td>-0.008322</td>\n",
       "      <td>-0.002026</td>\n",
       "      <td>0.020864</td>\n",
       "      <td>-0.001988</td>\n",
       "      <td>0.029236</td>\n",
       "      <td>0.000787</td>\n",
       "      <td>0.004801</td>\n",
       "      <td>-0.005831</td>\n",
       "      <td>0.004802</td>\n",
       "      <td>-0.022703</td>\n",
       "      <td>1.000000</td>\n",
       "      <td>0.089368</td>\n",
       "      <td>0.222514</td>\n",
       "      <td>0.067594</td>\n",
       "      <td>0.160487</td>\n",
       "      <td>0.157079</td>\n",
       "      <td>-0.002759</td>\n",
       "    </tr>\n",
       "    <tr>\n",
       "      <th>tx_bytes</th>\n",
       "      <td>0.077486</td>\n",
       "      <td>-0.050625</td>\n",
       "      <td>0.025893</td>\n",
       "      <td>0.007110</td>\n",
       "      <td>0.154209</td>\n",
       "      <td>0.007767</td>\n",
       "      <td>0.154251</td>\n",
       "      <td>0.165628</td>\n",
       "      <td>0.108195</td>\n",
       "      <td>-0.053207</td>\n",
       "      <td>-0.059418</td>\n",
       "      <td>-0.053265</td>\n",
       "      <td>0.091515</td>\n",
       "      <td>0.089368</td>\n",
       "      <td>1.000000</td>\n",
       "      <td>0.102674</td>\n",
       "      <td>0.446813</td>\n",
       "      <td>-0.098956</td>\n",
       "      <td>0.280393</td>\n",
       "      <td>-0.049302</td>\n",
       "    </tr>\n",
       "    <tr>\n",
       "      <th>rx_bytes</th>\n",
       "      <td>0.088301</td>\n",
       "      <td>-0.058007</td>\n",
       "      <td>0.029731</td>\n",
       "      <td>0.008339</td>\n",
       "      <td>0.176115</td>\n",
       "      <td>0.008926</td>\n",
       "      <td>0.176162</td>\n",
       "      <td>0.189312</td>\n",
       "      <td>0.124032</td>\n",
       "      <td>-0.060848</td>\n",
       "      <td>-0.067954</td>\n",
       "      <td>-0.060914</td>\n",
       "      <td>0.104517</td>\n",
       "      <td>0.222514</td>\n",
       "      <td>0.102674</td>\n",
       "      <td>1.000000</td>\n",
       "      <td>-0.105946</td>\n",
       "      <td>0.399909</td>\n",
       "      <td>0.179521</td>\n",
       "      <td>-0.056578</td>\n",
       "    </tr>\n",
       "    <tr>\n",
       "      <th>tx_kbps</th>\n",
       "      <td>-0.035187</td>\n",
       "      <td>-0.032980</td>\n",
       "      <td>0.001984</td>\n",
       "      <td>0.049803</td>\n",
       "      <td>-0.141224</td>\n",
       "      <td>-0.035533</td>\n",
       "      <td>-0.141305</td>\n",
       "      <td>0.155590</td>\n",
       "      <td>0.037910</td>\n",
       "      <td>0.105162</td>\n",
       "      <td>0.097287</td>\n",
       "      <td>0.105191</td>\n",
       "      <td>0.007350</td>\n",
       "      <td>0.067594</td>\n",
       "      <td>0.446813</td>\n",
       "      <td>-0.105946</td>\n",
       "      <td>1.000000</td>\n",
       "      <td>-0.023249</td>\n",
       "      <td>0.757080</td>\n",
       "      <td>-0.005646</td>\n",
       "    </tr>\n",
       "    <tr>\n",
       "      <th>rx_kbps</th>\n",
       "      <td>-0.041620</td>\n",
       "      <td>-0.039025</td>\n",
       "      <td>0.002328</td>\n",
       "      <td>0.058850</td>\n",
       "      <td>-0.166916</td>\n",
       "      <td>-0.042023</td>\n",
       "      <td>-0.167011</td>\n",
       "      <td>0.183821</td>\n",
       "      <td>0.044762</td>\n",
       "      <td>0.124257</td>\n",
       "      <td>0.114963</td>\n",
       "      <td>0.124291</td>\n",
       "      <td>0.008644</td>\n",
       "      <td>0.160487</td>\n",
       "      <td>-0.098956</td>\n",
       "      <td>0.399909</td>\n",
       "      <td>-0.023249</td>\n",
       "      <td>1.000000</td>\n",
       "      <td>0.635545</td>\n",
       "      <td>-0.006714</td>\n",
       "    </tr>\n",
       "    <tr>\n",
       "      <th>tot_kbps</th>\n",
       "      <td>-0.054373</td>\n",
       "      <td>-0.050972</td>\n",
       "      <td>0.003054</td>\n",
       "      <td>0.076920</td>\n",
       "      <td>-0.218143</td>\n",
       "      <td>-0.054903</td>\n",
       "      <td>-0.218268</td>\n",
       "      <td>0.240285</td>\n",
       "      <td>0.058529</td>\n",
       "      <td>0.162416</td>\n",
       "      <td>0.150260</td>\n",
       "      <td>0.162461</td>\n",
       "      <td>0.011325</td>\n",
       "      <td>0.157079</td>\n",
       "      <td>0.280393</td>\n",
       "      <td>0.179521</td>\n",
       "      <td>0.757080</td>\n",
       "      <td>0.635545</td>\n",
       "      <td>1.000000</td>\n",
       "      <td>-0.008748</td>\n",
       "    </tr>\n",
       "    <tr>\n",
       "      <th>label</th>\n",
       "      <td>-0.108798</td>\n",
       "      <td>0.027644</td>\n",
       "      <td>0.403217</td>\n",
       "      <td>0.278051</td>\n",
       "      <td>-0.098734</td>\n",
       "      <td>0.029161</td>\n",
       "      <td>-0.098745</td>\n",
       "      <td>-0.181510</td>\n",
       "      <td>-0.002489</td>\n",
       "      <td>0.089608</td>\n",
       "      <td>-0.014160</td>\n",
       "      <td>0.089801</td>\n",
       "      <td>-0.047474</td>\n",
       "      <td>-0.002759</td>\n",
       "      <td>-0.049302</td>\n",
       "      <td>-0.056578</td>\n",
       "      <td>-0.005646</td>\n",
       "      <td>-0.006714</td>\n",
       "      <td>-0.008748</td>\n",
       "      <td>1.000000</td>\n",
       "    </tr>\n",
       "  </tbody>\n",
       "</table>\n",
       "</div>"
      ],
      "text/plain": [
       "                   dt    switch  pktcount  bytecount       dur  dur_nsec  \\\n",
       "dt           1.000000 -0.006373 -0.174345  -0.289111  0.271664 -0.166514   \n",
       "switch      -0.006373  1.000000 -0.057639  -0.168475 -0.023560 -0.077123   \n",
       "pktcount    -0.174345 -0.057639  1.000000   0.675792  0.023222  0.034283   \n",
       "bytecount   -0.289111 -0.168475  0.675792   1.000000  0.038033  0.029418   \n",
       "dur          0.271664 -0.023560  0.023222   0.038033  1.000000 -0.056219   \n",
       "dur_nsec    -0.166514 -0.077123  0.034283   0.029418 -0.056219  1.000000   \n",
       "tot_dur      0.271475 -0.023687  0.023283   0.038034  0.999998 -0.054854   \n",
       "flows        0.327694 -0.028017 -0.257467  -0.244514  0.176351 -0.010445   \n",
       "packetins    0.043491  0.199984  0.275867  -0.124840 -0.124797 -0.059464   \n",
       "pktperflow  -0.233717 -0.036071  0.470065   0.333530 -0.329504  0.043277   \n",
       "byteperflow -0.308270 -0.112878  0.290614   0.533201 -0.259843  0.047295   \n",
       "pktrate     -0.233834 -0.036079  0.470097   0.333553 -0.329764  0.043279   \n",
       "Pairflow     0.713059  0.090657 -0.085007  -0.388628  0.180537 -0.211168   \n",
       "port_no     -0.026066 -0.006854  0.006073  -0.008322 -0.002026  0.020864   \n",
       "tx_bytes     0.077486 -0.050625  0.025893   0.007110  0.154209  0.007767   \n",
       "rx_bytes     0.088301 -0.058007  0.029731   0.008339  0.176115  0.008926   \n",
       "tx_kbps     -0.035187 -0.032980  0.001984   0.049803 -0.141224 -0.035533   \n",
       "rx_kbps     -0.041620 -0.039025  0.002328   0.058850 -0.166916 -0.042023   \n",
       "tot_kbps    -0.054373 -0.050972  0.003054   0.076920 -0.218143 -0.054903   \n",
       "label       -0.108798  0.027644  0.403217   0.278051 -0.098734  0.029161   \n",
       "\n",
       "              tot_dur     flows  packetins  pktperflow  byteperflow   pktrate  \\\n",
       "dt           0.271475  0.327694   0.043491   -0.233717    -0.308270 -0.233834   \n",
       "switch      -0.023687 -0.028017   0.199984   -0.036071    -0.112878 -0.036079   \n",
       "pktcount     0.023283 -0.257467   0.275867    0.470065     0.290614  0.470097   \n",
       "bytecount    0.038034 -0.244514  -0.124840    0.333530     0.533201  0.333553   \n",
       "dur          0.999998  0.176351  -0.124797   -0.329504    -0.259843 -0.329764   \n",
       "dur_nsec    -0.054854 -0.010445  -0.059464    0.043277     0.047295  0.043279   \n",
       "tot_dur      1.000000  0.176352  -0.124876   -0.329483    -0.259831 -0.329744   \n",
       "flows        0.176352  1.000000   0.047415   -0.212795    -0.246311 -0.212924   \n",
       "packetins   -0.124876  0.047415   1.000000    0.185407    -0.106459  0.185469   \n",
       "pktperflow  -0.329483 -0.212795   0.185407    1.000000     0.812940  0.999999   \n",
       "byteperflow -0.259831 -0.246311  -0.106459    0.812940     1.000000  0.812940   \n",
       "pktrate     -0.329744 -0.212924   0.185469    0.999999     0.812940  1.000000   \n",
       "Pairflow     0.180285  0.390747   0.269968   -0.171700    -0.396559 -0.171783   \n",
       "port_no     -0.001988  0.029236   0.000787    0.004801    -0.005831  0.004802   \n",
       "tx_bytes     0.154251  0.165628   0.108195   -0.053207    -0.059418 -0.053265   \n",
       "rx_bytes     0.176162  0.189312   0.124032   -0.060848    -0.067954 -0.060914   \n",
       "tx_kbps     -0.141305  0.155590   0.037910    0.105162     0.097287  0.105191   \n",
       "rx_kbps     -0.167011  0.183821   0.044762    0.124257     0.114963  0.124291   \n",
       "tot_kbps    -0.218268  0.240285   0.058529    0.162416     0.150260  0.162461   \n",
       "label       -0.098745 -0.181510  -0.002489    0.089608    -0.014160  0.089801   \n",
       "\n",
       "             Pairflow   port_no  tx_bytes  rx_bytes   tx_kbps   rx_kbps  \\\n",
       "dt           0.713059 -0.026066  0.077486  0.088301 -0.035187 -0.041620   \n",
       "switch       0.090657 -0.006854 -0.050625 -0.058007 -0.032980 -0.039025   \n",
       "pktcount    -0.085007  0.006073  0.025893  0.029731  0.001984  0.002328   \n",
       "bytecount   -0.388628 -0.008322  0.007110  0.008339  0.049803  0.058850   \n",
       "dur          0.180537 -0.002026  0.154209  0.176115 -0.141224 -0.166916   \n",
       "dur_nsec    -0.211168  0.020864  0.007767  0.008926 -0.035533 -0.042023   \n",
       "tot_dur      0.180285 -0.001988  0.154251  0.176162 -0.141305 -0.167011   \n",
       "flows        0.390747  0.029236  0.165628  0.189312  0.155590  0.183821   \n",
       "packetins    0.269968  0.000787  0.108195  0.124032  0.037910  0.044762   \n",
       "pktperflow  -0.171700  0.004801 -0.053207 -0.060848  0.105162  0.124257   \n",
       "byteperflow -0.396559 -0.005831 -0.059418 -0.067954  0.097287  0.114963   \n",
       "pktrate     -0.171783  0.004802 -0.053265 -0.060914  0.105191  0.124291   \n",
       "Pairflow     1.000000 -0.022703  0.091515  0.104517  0.007350  0.008644   \n",
       "port_no     -0.022703  1.000000  0.089368  0.222514  0.067594  0.160487   \n",
       "tx_bytes     0.091515  0.089368  1.000000  0.102674  0.446813 -0.098956   \n",
       "rx_bytes     0.104517  0.222514  0.102674  1.000000 -0.105946  0.399909   \n",
       "tx_kbps      0.007350  0.067594  0.446813 -0.105946  1.000000 -0.023249   \n",
       "rx_kbps      0.008644  0.160487 -0.098956  0.399909 -0.023249  1.000000   \n",
       "tot_kbps     0.011325  0.157079  0.280393  0.179521  0.757080  0.635545   \n",
       "label       -0.047474 -0.002759 -0.049302 -0.056578 -0.005646 -0.006714   \n",
       "\n",
       "             tot_kbps     label  \n",
       "dt          -0.054373 -0.108798  \n",
       "switch      -0.050972  0.027644  \n",
       "pktcount     0.003054  0.403217  \n",
       "bytecount    0.076920  0.278051  \n",
       "dur         -0.218143 -0.098734  \n",
       "dur_nsec    -0.054903  0.029161  \n",
       "tot_dur     -0.218268 -0.098745  \n",
       "flows        0.240285 -0.181510  \n",
       "packetins    0.058529 -0.002489  \n",
       "pktperflow   0.162416  0.089608  \n",
       "byteperflow  0.150260 -0.014160  \n",
       "pktrate      0.162461  0.089801  \n",
       "Pairflow     0.011325 -0.047474  \n",
       "port_no      0.157079 -0.002759  \n",
       "tx_bytes     0.280393 -0.049302  \n",
       "rx_bytes     0.179521 -0.056578  \n",
       "tx_kbps      0.757080 -0.005646  \n",
       "rx_kbps      0.635545 -0.006714  \n",
       "tot_kbps     1.000000 -0.008748  \n",
       "label       -0.008748  1.000000  "
      ]
     },
     "execution_count": 7,
     "metadata": {},
     "output_type": "execute_result"
    }
   ],
   "source": [
    "corr=df1.corr()\n",
    "corr"
   ]
  },
  {
   "cell_type": "code",
   "execution_count": 8,
   "id": "b996963e",
   "metadata": {},
   "outputs": [
    {
     "data": {
      "text/plain": [
       "<AxesSubplot: >"
      ]
     },
     "execution_count": 8,
     "metadata": {},
     "output_type": "execute_result"
    },
    {
     "data": {
      "image/png": "[encoded data removed]",
      "text/plain": [
       "<Figure size 640x480 with 2 Axes>"
      ]
     },
     "metadata": {},
     "output_type": "display_data"
    }
   ],
   "source": [
    "import seaborn as sns\n",
    "sns.heatmap(corr)"
   ]
  },
  {
   "cell_type": "code",
   "execution_count": 9,
   "id": "05ee9b67",
   "metadata": {},
   "outputs": [
    {
     "data": {
      "text/plain": [
       "<bound method NDFrame.head of            dt  switch        src       dst  pktcount  bytecount  dur  \\\n",
       "0       11425       1   10.0.0.1  10.0.0.8     45304   48294064  100   \n",
       "1       11605       1   10.0.0.1  10.0.0.8    126395  134737070  280   \n",
       "2       11425       1   10.0.0.2  10.0.0.8     90333   96294978  200   \n",
       "3       11425       1   10.0.0.2  10.0.0.8     90333   96294978  200   \n",
       "4       11425       1   10.0.0.2  10.0.0.8     90333   96294978  200   \n",
       "...       ...     ...        ...       ...       ...        ...  ...   \n",
       "104340   5262       3   10.0.0.5  10.0.0.7        79       7742   81   \n",
       "104341   5262       3   10.0.0.5  10.0.0.7        79       7742   81   \n",
       "104342   5262       3  10.0.0.11  10.0.0.5        31       3038   31   \n",
       "104343   5262       3  10.0.0.11  10.0.0.5        31       3038   31   \n",
       "104344   5262       3  10.0.0.11  10.0.0.5        31       3038   31   \n",
       "\n",
       "         dur_nsec       tot_dur  flows  ...  pktrate  Pairflow  Protocol  \\\n",
       "0       716000000  1.010000e+11      3  ...      451         0       UDP   \n",
       "1       734000000  2.810000e+11      2  ...      451         0       UDP   \n",
       "2       744000000  2.010000e+11      3  ...      451         0       UDP   \n",
       "3       744000000  2.010000e+11      3  ...      451         0       UDP   \n",
       "4       744000000  2.010000e+11      3  ...      451         0       UDP   \n",
       "...           ...           ...    ...  ...      ...       ...       ...   \n",
       "104340  842000000  8.184200e+10      5  ...        0         0      ICMP   \n",
       "104341  842000000  8.184200e+10      5  ...        0         0      ICMP   \n",
       "104342  805000000  3.180500e+10      5  ...        1         0      ICMP   \n",
       "104343  805000000  3.180500e+10      5  ...        1         0      ICMP   \n",
       "104344  805000000  3.180500e+10      5  ...        1         0      ICMP   \n",
       "\n",
       "        port_no   tx_bytes rx_bytes  tx_kbps  rx_kbps  tot_kbps  label  \n",
       "0             3  143928631     3917        0      0.0       0.0      0  \n",
       "1             4       3842     3520        0      0.0       0.0      0  \n",
       "2             1       3795     1242        0      0.0       0.0      0  \n",
       "3             2       3688     1492        0      0.0       0.0      0  \n",
       "4             3       3413     3665        0      0.0       0.0      0  \n",
       "...         ...        ...      ...      ...      ...       ...    ...  \n",
       "104340        1      15209    12720        1      1.0       2.0      0  \n",
       "104341        3      15099    14693        1      1.0       2.0      0  \n",
       "104342        2       3409     3731        0      0.0       0.0      0  \n",
       "104343        1      15209    12720        1      1.0       2.0      0  \n",
       "104344        3      15099    14693        1      1.0       2.0      0  \n",
       "\n",
       "[103839 rows x 23 columns]>"
      ]
     },
     "execution_count": 9,
     "metadata": {},
     "output_type": "execute_result"
    }
   ],
   "source": [
    "df1.head"
   ]
  },
  {
   "cell_type": "code",
   "execution_count": 10,
   "id": "b8db01a7",
   "metadata": {},
   "outputs": [
    {
     "name": "stdout",
     "output_type": "stream",
     "text": [
      "<class 'pandas.core.frame.DataFrame'>\n",
      "Int64Index: 103839 entries, 0 to 104344\n",
      "Data columns (total 23 columns):\n",
      " #   Column       Non-Null Count   Dtype  \n",
      "---  ------       --------------   -----  \n",
      " 0   dt           103839 non-null  int64  \n",
      " 1   switch       103839 non-null  int64  \n",
      " 2   src          103839 non-null  object \n",
      " 3   dst          103839 non-null  object \n",
      " 4   pktcount     103839 non-null  int64  \n",
      " 5   bytecount    103839 non-null  int64  \n",
      " 6   dur          103839 non-null  int64  \n",
      " 7   dur_nsec     103839 non-null  int64  \n",
      " 8   tot_dur      103839 non-null  float64\n",
      " 9   flows        103839 non-null  int64  \n",
      " 10  packetins    103839 non-null  int64  \n",
      " 11  pktperflow   103839 non-null  int64  \n",
      " 12  byteperflow  103839 non-null  int64  \n",
      " 13  pktrate      103839 non-null  int64  \n",
      " 14  Pairflow     103839 non-null  int64  \n",
      " 15  Protocol     103839 non-null  object \n",
      " 16  port_no      103839 non-null  int64  \n",
      " 17  tx_bytes     103839 non-null  int64  \n",
      " 18  rx_bytes     103839 non-null  int64  \n",
      " 19  tx_kbps      103839 non-null  int64  \n",
      " 20  rx_kbps      103839 non-null  float64\n",
      " 21  tot_kbps     103839 non-null  float64\n",
      " 22  label        103839 non-null  int64  \n",
      "dtypes: float64(3), int64(17), object(3)\n",
      "memory usage: 19.0+ MB\n"
     ]
    }
   ],
   "source": [
    "df1.info()"
   ]
  },
  {
   "cell_type": "code",
   "execution_count": 11,
   "id": "740df69f",
   "metadata": {},
   "outputs": [],
   "source": [
    "from sklearn.preprocessing import LabelEncoder,OneHotEncoder"
   ]
  },
  {
   "cell_type": "code",
   "execution_count": 12,
   "id": "55c52e5d",
   "metadata": {},
   "outputs": [],
   "source": [
    "label_encoder =LabelEncoder()\n",
    "# Encode labels in column. \n",
    "df1['Protocol']= label_encoder.fit_transform(df1['Protocol'])\n",
    "df1['src']= label_encoder.fit_transform(df1['src'])\n",
    "df1['dst']= label_encoder.fit_transform(df1['dst'])"
   ]
  },
  {
   "cell_type": "code",
   "execution_count": 13,
   "id": "bba9851d",
   "metadata": {},
   "outputs": [
    {
     "data": {
      "text/plain": [
       "<bound method NDFrame.head of            dt  switch  src  dst  pktcount  bytecount  dur   dur_nsec  \\\n",
       "0       11425       1    0   16     45304   48294064  100  716000000   \n",
       "1       11605       1    0   16    126395  134737070  280  734000000   \n",
       "2       11425       1   10   16     90333   96294978  200  744000000   \n",
       "3       11425       1   10   16     90333   96294978  200  744000000   \n",
       "4       11425       1   10   16     90333   96294978  200  744000000   \n",
       "...       ...     ...  ...  ...       ...        ...  ...        ...   \n",
       "104340   5262       3   14   15        79       7742   81  842000000   \n",
       "104341   5262       3   14   15        79       7742   81  842000000   \n",
       "104342   5262       3    2   13        31       3038   31  805000000   \n",
       "104343   5262       3    2   13        31       3038   31  805000000   \n",
       "104344   5262       3    2   13        31       3038   31  805000000   \n",
       "\n",
       "             tot_dur  flows  ...  pktrate  Pairflow  Protocol  port_no  \\\n",
       "0       1.010000e+11      3  ...      451         0         2        3   \n",
       "1       2.810000e+11      2  ...      451         0         2        4   \n",
       "2       2.010000e+11      3  ...      451         0         2        1   \n",
       "3       2.010000e+11      3  ...      451         0         2        2   \n",
       "4       2.010000e+11      3  ...      451         0         2        3   \n",
       "...              ...    ...  ...      ...       ...       ...      ...   \n",
       "104340  8.184200e+10      5  ...        0         0         0        1   \n",
       "104341  8.184200e+10      5  ...        0         0         0        3   \n",
       "104342  3.180500e+10      5  ...        1         0         0        2   \n",
       "104343  3.180500e+10      5  ...        1         0         0        1   \n",
       "104344  3.180500e+10      5  ...        1         0         0        3   \n",
       "\n",
       "         tx_bytes  rx_bytes  tx_kbps  rx_kbps  tot_kbps  label  \n",
       "0       143928631      3917        0      0.0       0.0      0  \n",
       "1            3842      3520        0      0.0       0.0      0  \n",
       "2            3795      1242        0      0.0       0.0      0  \n",
       "3            3688      1492        0      0.0       0.0      0  \n",
       "4            3413      3665        0      0.0       0.0      0  \n",
       "...           ...       ...      ...      ...       ...    ...  \n",
       "104340      15209     12720        1      1.0       2.0      0  \n",
       "104341      15099     14693        1      1.0       2.0      0  \n",
       "104342       3409      3731        0      0.0       0.0      0  \n",
       "104343      15209     12720        1      1.0       2.0      0  \n",
       "104344      15099     14693        1      1.0       2.0      0  \n",
       "\n",
       "[103839 rows x 23 columns]>"
      ]
     },
     "execution_count": 13,
     "metadata": {},
     "output_type": "execute_result"
    }
   ],
   "source": [
    "df1.head"
   ]
  },
  {
   "cell_type": "code",
   "execution_count": 14,
   "id": "b69d6b12",
   "metadata": {},
   "outputs": [
    {
     "data": {
      "image/png": "[encoded data removed]",
      "text/plain": [
       "<Figure size 640x480 with 2 Axes>"
      ]
     },
     "metadata": {},
     "output_type": "display_data"
    }
   ],
   "source": [
    "import matplotlib.pyplot as plt\n",
    "import seaborn as sns\n",
    "x = \"label\"\n",
    "fig, ax = plt.subplots(nrows=1, ncols=2,  sharex=False, sharey=False)\n",
    "fig.suptitle(x, fontsize=20)\n",
    "### distribution\n",
    "ax[0].title.set_text('distribution')\n",
    "variable = df1[x].fillna(df1[x].mean())\n",
    "breaks = np.quantile(variable, q=np.linspace(0, 1, 11))\n",
    "variable = variable[ (variable > breaks[0]) & (variable < \n",
    "                    breaks[10]) ]\n",
    "sns.distplot(variable, hist=True, kde=True, kde_kws={\"shade\": True}, ax=ax[0])\n",
    "des = df1[x].describe()\n",
    "ax[0].axvline(des[\"25%\"], ls='--')\n",
    "ax[0].axvline(des[\"mean\"], ls='--')\n",
    "ax[0].axvline(des[\"75%\"], ls='--')\n",
    "ax[0].grid(True)\n",
    "des = round(des, 2).apply(lambda x: str(x))\n",
    "box = '\\n'.join((\"min: \"+des[\"min\"], \"25%: \"+des[\"25%\"], \"mean: \"+des[\"mean\"], \"75%: \"+des[\"75%\"], \"max: \"+des[\"max\"]))\n",
    "ax[0].text(0.95, 0.95, box, transform=ax[0].transAxes, fontsize=10, va='top', ha=\"right\"\n",
    "           , bbox=dict(boxstyle='round', facecolor='white', alpha=1))\n",
    "### boxplot \n",
    "ax[1].title.set_text('outliers (log scale)')\n",
    "tmp_dtf = pd.DataFrame(df1[x])\n",
    "tmp_dtf[x] = np.log(tmp_dtf[x])\n",
    "tmp_dtf.boxplot(column=x, ax=ax[1])\n",
    "plt.show()"
   ]
  },
  {
   "cell_type": "code",
   "execution_count": 15,
   "id": "7564594e",
   "metadata": {},
   "outputs": [
    {
     "data": {
      "text/plain": [
       "<AxesSubplot: xlabel='label', ylabel='count'>"
      ]
     },
     "execution_count": 15,
     "metadata": {},
     "output_type": "execute_result"
    },
    {
     "data": {
      "image/png": "[encoded data removed]",
      "text/plain": [
       "<Figure size 640x480 with 1 Axes>"
      ]
     },
     "metadata": {},
     "output_type": "display_data"
    }
   ],
   "source": [
    "sns.set_style('whitegrid')\n",
    "sns.countplot(x='label',data=df1,palette='RdBu_r')"
   ]
  },
  {
   "cell_type": "markdown",
   "id": "91d4329d",
   "metadata": {},
   "source": [
    "# feature_selection"
   ]
  },
  {
   "cell_type": "code",
   "execution_count": 58,
   "id": "d4d7aa37",
   "metadata": {},
   "outputs": [
    {
     "name": "stderr",
     "output_type": "stream",
     "text": [
      "C:\\ProgramData\\Anaconda3\\lib\\site-packages\\sklearn\\linear_model\\_ridge.py:157: LinAlgWarning: Ill-conditioned matrix (rcond=1.19511e-28): result may not be accurate.\n",
      "  return linalg.solve(A, Xy, sym_pos=True, overwrite_a=True).T\n"
     ]
    },
    {
     "data": {
      "text/plain": [
       "<AxesSubplot: xlabel='selection', ylabel='features'>"
      ]
     },
     "execution_count": 58,
     "metadata": {},
     "output_type": "execute_result"
    },
    {
     "data": {
      "image/png": "[encoded data removed]",
      "text/plain": [
       "<Figure size 640x480 with 1 Axes>"
      ]
     },
     "metadata": {},
     "output_type": "display_data"
    }
   ],
   "source": [
    "X = df1.drop(\"label\", axis=1).values\n",
    "y = df1[\"label\"].values\n",
    "feature_names = df1.drop(\"label\", axis=1).columns\n",
    "## p-value\n",
    "selector = feature_selection.SelectKBest(score_func= feature_selection.f_regression, k=9).fit(X,y)\n",
    "pvalue_selected_features = feature_names[selector.get_support()]\n",
    "\n",
    "## regularization\n",
    "selector = feature_selection.SelectFromModel(estimator= \n",
    "              linear_model.Ridge(alpha=1.0, fit_intercept=True), \n",
    "                                 max_features=9).fit(X,y)\n",
    "regularization_selected_features = feature_names[selector.get_support()]\n",
    " \n",
    "## plot\n",
    "dtf_features = pd.DataFrame({\"features\":feature_names})\n",
    "dtf_features[\"p_value\"] = dtf_features[\"features\"].apply(lambda x: \"p_value\" if x in pvalue_selected_features else \"\")\n",
    "dtf_features[\"num1\"] = dtf_features[\"features\"].apply(lambda x: 1 if x in pvalue_selected_features else 0)\n",
    "dtf_features[\"regularization\"] = dtf_features[\"features\"].apply(lambda x: \"regularization\" if x in regularization_selected_features else \"\")\n",
    "dtf_features[\"num2\"] = dtf_features[\"features\"].apply(lambda x: 1 if x in regularization_selected_features else 0)\n",
    "dtf_features[\"method\"] = dtf_features[[\"p_value\",\"regularization\"]].apply(lambda x: (x[0]+\" \"+x[1]).strip(), axis=1)\n",
    "dtf_features[\"selection\"] = dtf_features[\"num1\"] + dtf_features[\"num2\"]\n",
    "dtf_features[\"method\"] = dtf_features[\"method\"].apply(lambda x: \"both\" if len(x.split()) == 2 else x)\n",
    "sns.barplot(y=\"features\", x=\"selection\", hue=\"method\", data=dtf_features.sort_values(\"selection\", ascending=False), dodge=False)"
   ]
  },
  {
   "cell_type": "code",
   "execution_count": 16,
   "id": "f79957d8",
   "metadata": {},
   "outputs": [
    {
     "data": {
      "text/plain": [
       "Index(['dt', 'switch', 'src', 'dst', 'pktcount', 'bytecount', 'dur',\n",
       "       'dur_nsec', 'tot_dur', 'flows', 'packetins', 'pktperflow',\n",
       "       'byteperflow', 'pktrate', 'Pairflow', 'Protocol', 'port_no', 'tx_bytes',\n",
       "       'rx_bytes', 'tx_kbps', 'rx_kbps', 'tot_kbps', 'label'],\n",
       "      dtype='object')"
      ]
     },
     "execution_count": 16,
     "metadata": {},
     "output_type": "execute_result"
    }
   ],
   "source": [
    "df1.columns"
   ]
  },
  {
   "cell_type": "code",
   "execution_count": 103,
   "id": "2c1a09db",
   "metadata": {},
   "outputs": [],
   "source": [
    "df_selected=df1.loc[:,['Protocol','dur','pktrate','dt', 'src','pktcount','bytecount','tot_dur','flows','Pairflow']].copy()       \n"
   ]
  },
  {
   "cell_type": "code",
   "execution_count": 104,
   "id": "c950d6f6",
   "metadata": {},
   "outputs": [
    {
     "data": {
      "text/plain": [
       "(103839, 10)"
      ]
     },
     "execution_count": 104,
     "metadata": {},
     "output_type": "execute_result"
    }
   ],
   "source": [
    "norm_data_random = df_selected.sample(frac=1 )\n",
    "norm_data_random.shape"
   ]
  },
  {
   "cell_type": "code",
   "execution_count": 105,
   "id": "5e8d729e",
   "metadata": {},
   "outputs": [],
   "source": [
    "# Data Nomarlisation; Scaling of Integer Values using X values to predict y\n",
    "scaler  = StandardScaler()\n",
    "df_selected = scaler.fit_transform(df_selected)\n"
   ]
  },
  {
   "cell_type": "code",
   "execution_count": 106,
   "id": "1fcdff99",
   "metadata": {},
   "outputs": [],
   "source": [
    "#defining datasets for X and Y \n",
    "\n",
    "#X=norm_data_random[['Protocol','dur','pktrate','dt', 'src','pktcount','bytecount','tot_dur','flows','Pairflow']]\n",
    "#Y=norm_data_random['label']\n",
    "X = norm_data_random.iloc[:, :-1].values\n",
    "y = norm_data_random.iloc[:, -1].values\n"
   ]
  },
  {
   "cell_type": "code",
   "execution_count": 108,
   "id": "103a792f",
   "metadata": {},
   "outputs": [],
   "source": [
    "X_train, X_test, y_train, y_test = train_test_split(X, Y, test_size=0.3, random_state=123) \n",
    "# split dataset into training and test"
   ]
  },
  {
   "cell_type": "code",
   "execution_count": 109,
   "id": "eb14ffaa",
   "metadata": {},
   "outputs": [
    {
     "data": {
      "text/plain": [
       "array([[1.0000000e+00, 2.3200000e+02, 6.0000000e+02, ..., 7.3818540e+06,\n",
       "        2.3200000e+11, 7.0000000e+00],\n",
       "       [1.0000000e+00, 2.2900000e+02, 2.6000000e+02, ..., 3.8772420e+06,\n",
       "        2.3000000e+11, 5.0000000e+00],\n",
       "       [2.0000000e+00, 3.0300000e+02, 3.1200000e+02, ..., 9.8960824e+07,\n",
       "        3.0300000e+11, 2.0000000e+00],\n",
       "       ...,\n",
       "       [1.0000000e+00, 8.1000000e+01, 2.9800000e+02, ..., 1.7249660e+06,\n",
       "        8.1370000e+10, 9.0000000e+00],\n",
       "       [2.0000000e+00, 1.0700000e+02, 4.5500000e+02, ..., 5.1375870e+07,\n",
       "        1.0700000e+11, 3.0000000e+00],\n",
       "       [2.0000000e+00, 1.6200000e+02, 4.5300000e+02, ..., 7.8371254e+07,\n",
       "        1.6300000e+11, 3.0000000e+00]])"
      ]
     },
     "execution_count": 109,
     "metadata": {},
     "output_type": "execute_result"
    }
   ],
   "source": [
    "X"
   ]
  },
  {
   "cell_type": "code",
   "execution_count": null,
   "id": "c41cae8f",
   "metadata": {},
   "outputs": [],
   "source": []
  },
  {
   "cell_type": "markdown",
   "id": "521f4a25",
   "metadata": {},
   "source": [
    "# Data Nomarlisation; Scaling of Integer Values using X values to predict y\n",
    "scaler  = StandardScaler()\n",
    "x_train = scaler.fit_transform(X_train)\n",
    "x_test = scaler.transform(X_test)"
   ]
  },
  {
   "cell_type": "code",
   "execution_count": null,
   "id": "a597b924",
   "metadata": {},
   "outputs": [],
   "source": []
  },
  {
   "cell_type": "markdown",
   "id": "f28b4ba9",
   "metadata": {},
   "source": [
    "# ML"
   ]
  },
  {
   "cell_type": "code",
   "execution_count": 110,
   "id": "8dde2119",
   "metadata": {},
   "outputs": [],
   "source": [
    "from sklearn  import ensemble\n",
    "from sklearn.metrics import mean_squared_error,mean_absolute_error,mean_absolute_error, r2_score"
   ]
  },
  {
   "cell_type": "code",
   "execution_count": 111,
   "id": "7cb0998d",
   "metadata": {},
   "outputs": [],
   "source": [
    "def score_BeforeTuning(algoname,yPredicted):\n",
    "    return algoname, round(accuracy_score(y_test, yPredicted),3) , round(mean_absolute_error(y_test, yPredicted),3), round(mean_squared_error(y_test, yPredicted),3), round(np.sqrt(mean_squared_error(y_test, yPredicted)),3)\n",
    "\n",
    "score=[]"
   ]
  },
  {
   "cell_type": "markdown",
   "id": "9eddeaa3",
   "metadata": {},
   "source": [
    "## Training the Logistic Regression model on the Training set"
   ]
  },
  {
   "cell_type": "code",
   "execution_count": 112,
   "id": "7941506f",
   "metadata": {},
   "outputs": [
    {
     "data": {
      "text/plain": [
       "LogisticRegression(random_state=0)"
      ]
     },
     "execution_count": 112,
     "metadata": {},
     "output_type": "execute_result"
    }
   ],
   "source": [
    "from sklearn.linear_model import LogisticRegression\n",
    "classifier_log = LogisticRegression(random_state = 0)\n",
    "classifier_log.fit(X_train, y_train)"
   ]
  },
  {
   "cell_type": "code",
   "execution_count": 113,
   "id": "f0ad5f07",
   "metadata": {},
   "outputs": [
    {
     "name": "stdout",
     "output_type": "stream",
     "text": [
      "       1  2\n",
      "1  19026  0\n",
      "2  12126  0\n"
     ]
    },
    {
     "data": {
      "text/plain": [
       "0.6107473035439137"
      ]
     },
     "execution_count": 113,
     "metadata": {},
     "output_type": "execute_result"
    }
   ],
   "source": [
    "from sklearn.metrics import confusion_matrix, accuracy_score\n",
    "y_pred_LR = classifier_log.predict(X_test)\n",
    "cm_LR = confusion_matrix(y_test, y_pred_LR)\n",
    "#print(cm)\n",
    "df_cm = pd.DataFrame(cm_LR, index=['1','2'], \n",
    "                     columns = ['1','2'])\n",
    "print(df_cm)\n",
    "score.append(score_BeforeTuning('LogisticRegression',y_pred_LR))\n",
    "accuracy_score(y_test, y_pred_LR)"
   ]
  },
  {
   "cell_type": "code",
   "execution_count": 114,
   "id": "a7215ff0",
   "metadata": {},
   "outputs": [
    {
     "data": {
      "image/png": "[encoded data removed]",
      "text/plain": [
       "<Figure size 500x400 with 2 Axes>"
      ]
     },
     "metadata": {},
     "output_type": "display_data"
    }
   ],
   "source": [
    "import seaborn as sns\n",
    "plt.figure(figsize=(5,4))\n",
    "sns.heatmap(cm_LR,annot=True)\n",
    "plt.title('Confusion Matrix')\n",
    "plt.ylabel('Actual values')\n",
    "plt.xlabel('Predicted values')\n",
    "plt.show()"
   ]
  },
  {
   "cell_type": "code",
   "execution_count": 115,
   "id": "e9504e99",
   "metadata": {},
   "outputs": [
    {
     "name": "stdout",
     "output_type": "stream",
     "text": [
      "              precision    recall  f1-score   support\n",
      "\n",
      "           0       0.61      1.00      0.76     19026\n",
      "           1       0.00      0.00      0.00     12126\n",
      "\n",
      "    accuracy                           0.61     31152\n",
      "   macro avg       0.31      0.50      0.38     31152\n",
      "weighted avg       0.37      0.61      0.46     31152\n",
      "\n"
     ]
    }
   ],
   "source": [
    "from sklearn.metrics import classification_report\n",
    "print(classification_report(y_test,y_pred_LR))"
   ]
  },
  {
   "cell_type": "code",
   "execution_count": null,
   "id": "27e53a7b",
   "metadata": {},
   "outputs": [],
   "source": []
  },
  {
   "cell_type": "markdown",
   "id": "23fbd9aa",
   "metadata": {},
   "source": [
    "## Training the Kernel SVM model on the Training set\n"
   ]
  },
  {
   "cell_type": "code",
   "execution_count": 127,
   "id": "84c15f1b",
   "metadata": {},
   "outputs": [
    {
     "data": {
      "text/plain": [
       "SVC(random_state=0)"
      ]
     },
     "execution_count": 127,
     "metadata": {},
     "output_type": "execute_result"
    }
   ],
   "source": [
    "from sklearn.svm import SVC\n",
    "classifier_svc = SVC(kernel = 'rbf', random_state = 0)\n",
    "classifier_svc.fit(X_train, y_train)"
   ]
  },
  {
   "cell_type": "code",
   "execution_count": 128,
   "id": "a96985c8",
   "metadata": {},
   "outputs": [
    {
     "data": {
      "text/plain": [
       "0.6107473035439137"
      ]
     },
     "execution_count": 128,
     "metadata": {},
     "output_type": "execute_result"
    }
   ],
   "source": [
    "from sklearn.metrics import confusion_matrix, accuracy_score\n",
    "y_pred_SVC = classifier_svc.predict(X_test)\n",
    "cm = confusion_matrix(y_test, y_pred_SVC)\n",
    "score.append(score_BeforeTuning('SVC-rbf',y_pred_SVC))\n",
    "accuracy_score(y_test, y_pred_SVC)"
   ]
  },
  {
   "cell_type": "code",
   "execution_count": null,
   "id": "57e7d897",
   "metadata": {},
   "outputs": [],
   "source": [
    "from sklearn.svm import SVC\n",
    "classifier_svc_l = SVC(kernel = 'linear', random_state = 0)\n",
    "classifier_svc_l.fit(X_train, y_train)"
   ]
  },
  {
   "cell_type": "code",
   "execution_count": null,
   "id": "dbbb15ab",
   "metadata": {},
   "outputs": [],
   "source": [
    "from sklearn.metrics import confusion_matrix, accuracy_score\n",
    "y_pred_SVC_1 = classifier_svc_l.predict(X_test)\n",
    "cm = confusion_matrix(y_test, y_pred_SVC_1)\n",
    "score.append(score_BeforeTuning('SVC-Linear',y_pred_SVC_1))\n",
    "accuracy_score(y_test, y_pred_SVC_1)"
   ]
  },
  {
   "cell_type": "code",
   "execution_count": null,
   "id": "49fb94dd",
   "metadata": {},
   "outputs": [],
   "source": []
  },
  {
   "cell_type": "markdown",
   "id": "c2c0794a",
   "metadata": {},
   "source": [
    "## Training the Decision Tree Classification model on the Training set"
   ]
  },
  {
   "cell_type": "code",
   "execution_count": 116,
   "id": "dd63b144",
   "metadata": {},
   "outputs": [],
   "source": [
    "from sklearn.tree import DecisionTreeClassifier\n",
    "classifier_tr = DecisionTreeClassifier()\n",
    "classifier_tr.fit(X_train, y_train)\n",
    "y_pred_tr = classifier_tr.predict(X_test)\n",
    "y_pred_tr_train = classifier_tr.predict(X_train)"
   ]
  },
  {
   "cell_type": "code",
   "execution_count": 117,
   "id": "30df1cb6",
   "metadata": {},
   "outputs": [
    {
     "data": {
      "text/plain": [
       "array([1, 1, 0, ..., 1, 0, 0], dtype=int64)"
      ]
     },
     "execution_count": 117,
     "metadata": {},
     "output_type": "execute_result"
    }
   ],
   "source": [
    "y_pred_dt"
   ]
  },
  {
   "cell_type": "code",
   "execution_count": 118,
   "id": "e8896a0f",
   "metadata": {},
   "outputs": [
    {
     "data": {
      "text/plain": [
       "0.5629815100154083"
      ]
     },
     "execution_count": 118,
     "metadata": {},
     "output_type": "execute_result"
    }
   ],
   "source": [
    "from sklearn.metrics import confusion_matrix, accuracy_score\n",
    "cm = confusion_matrix(y_test, y_pred_tr)\n",
    "score.append(score_BeforeTuning('DecisionTreeClassifier',y_pred_tr))\n",
    "accuracy_score(y_test, y_pred_tr)\n",
    "#accuracy_score(y_test, y_pred_dt_train)"
   ]
  },
  {
   "cell_type": "code",
   "execution_count": 119,
   "id": "d8639b87",
   "metadata": {},
   "outputs": [
    {
     "name": "stdout",
     "output_type": "stream",
     "text": [
      "              precision    recall  f1-score   support\n",
      "\n",
      "           0       0.61      0.78      0.69     19026\n",
      "           1       0.39      0.21      0.28     12126\n",
      "\n",
      "    accuracy                           0.56     31152\n",
      "   macro avg       0.50      0.50      0.48     31152\n",
      "weighted avg       0.52      0.56      0.53     31152\n",
      "\n"
     ]
    }
   ],
   "source": [
    "from sklearn.metrics import classification_report\n",
    "print(classification_report(y_test,y_pred_tr))"
   ]
  },
  {
   "cell_type": "code",
   "execution_count": 120,
   "id": "0cc3a9b5",
   "metadata": {},
   "outputs": [
    {
     "data": {
      "text/plain": [
       "[('LogisticRegression', 0.611, 0.389, 0.389, 0.624),\n",
       " ('DecisionTreeClassifier', 0.563, 0.437, 0.437, 0.661)]"
      ]
     },
     "execution_count": 120,
     "metadata": {},
     "output_type": "execute_result"
    }
   ],
   "source": [
    "score"
   ]
  },
  {
   "cell_type": "code",
   "execution_count": 121,
   "id": "2219f9e7",
   "metadata": {},
   "outputs": [
    {
     "name": "stdout",
     "output_type": "stream",
     "text": [
      "[[14935  4091]\n",
      " [ 9523  2603]]\n"
     ]
    }
   ],
   "source": [
    "print(cm)"
   ]
  },
  {
   "cell_type": "code",
   "execution_count": 130,
   "id": "60256bb9",
   "metadata": {},
   "outputs": [],
   "source": [
    "from sklearn.tree import DecisionTreeClassifier\n",
    "classifier_tr_2 = DecisionTreeClassifier(criterion = 'entropy', random_state = 0)\n",
    "classifier_tr_2.fit(X_train, y_train)\n",
    "\n",
    "y_pred_dt_2 = classifier_tr_2.predict(X_test)\n"
   ]
  },
  {
   "cell_type": "markdown",
   "id": "6768b26a",
   "metadata": {},
   "source": [
    "#print(np.concatenate((y_pred_dt_2.reshape(len(y_pred_dt_2),1), y_test.reshape(len(y_test),1)),1))"
   ]
  },
  {
   "cell_type": "code",
   "execution_count": 132,
   "id": "43a58dd9",
   "metadata": {},
   "outputs": [
    {
     "name": "stdout",
     "output_type": "stream",
     "text": [
      "[[14943  4083]\n",
      " [ 9529  2597]]\n"
     ]
    },
    {
     "data": {
      "text/plain": [
       "0.5630457113507961"
      ]
     },
     "execution_count": 132,
     "metadata": {},
     "output_type": "execute_result"
    }
   ],
   "source": [
    "from sklearn.metrics import confusion_matrix, accuracy_score\n",
    "cm_tr_2 = confusion_matrix(y_test, y_pred_dt_2)\n",
    "score.append(score_BeforeTuning('DecisionTreeClassifier_criterion = entropy',y_pred_dt_2))\n",
    "print(cm_tr_2)\n",
    "accuracy_score(y_test, y_pred_dt_2)"
   ]
  },
  {
   "cell_type": "code",
   "execution_count": null,
   "id": "89473d48",
   "metadata": {},
   "outputs": [],
   "source": []
  },
  {
   "cell_type": "markdown",
   "id": "6f0685da",
   "metadata": {},
   "source": [
    "## Training the Random Forest Classification model on the Training set"
   ]
  },
  {
   "cell_type": "code",
   "execution_count": 123,
   "id": "1c6b544c",
   "metadata": {},
   "outputs": [],
   "source": [
    "from sklearn.ensemble import RandomForestClassifier\n",
    "classifier_RF = RandomForestClassifier(n_estimators = 10, criterion = 'entropy', random_state = 0)\n",
    "classifier_RF.fit(X_train, y_train)\n",
    "y_pred_RF = classifier_RF.predict(X_test)"
   ]
  },
  {
   "cell_type": "code",
   "execution_count": 124,
   "id": "7c05410e",
   "metadata": {},
   "outputs": [
    {
     "data": {
      "text/plain": [
       "0.549338726245506"
      ]
     },
     "execution_count": 124,
     "metadata": {},
     "output_type": "execute_result"
    }
   ],
   "source": [
    "from sklearn.metrics import confusion_matrix, accuracy_score\n",
    "cm = confusion_matrix(y_test, y_pred_RF)\n",
    "score.append(score_BeforeTuning('RandomForestClassifier',y_pred_RF))\n",
    "accuracy_score(y_test, y_pred_RF)"
   ]
  },
  {
   "cell_type": "code",
   "execution_count": null,
   "id": "5b8dd78d",
   "metadata": {},
   "outputs": [],
   "source": []
  },
  {
   "cell_type": "markdown",
   "id": "b1dd5635",
   "metadata": {},
   "source": [
    "# Cpmpare Models"
   ]
  },
  {
   "cell_type": "code",
   "execution_count": 133,
   "id": "f9276866",
   "metadata": {
    "scrolled": true
   },
   "outputs": [
    {
     "data": {
      "text/html": [
       "<div>\n",
       "<style scoped>\n",
       "    .dataframe tbody tr th:only-of-type {\n",
       "        vertical-align: middle;\n",
       "    }\n",
       "\n",
       "    .dataframe tbody tr th {\n",
       "        vertical-align: top;\n",
       "    }\n",
       "\n",
       "    .dataframe thead th {\n",
       "        text-align: right;\n",
       "    }\n",
       "</style>\n",
       "<table border=\"1\" class=\"dataframe\">\n",
       "  <thead>\n",
       "    <tr style=\"text-align: right;\">\n",
       "      <th></th>\n",
       "      <th>Model</th>\n",
       "      <th>accuracy_score</th>\n",
       "      <th>MAE</th>\n",
       "      <th>MSE</th>\n",
       "      <th>RMSE</th>\n",
       "    </tr>\n",
       "  </thead>\n",
       "  <tbody>\n",
       "    <tr>\n",
       "      <th>0</th>\n",
       "      <td>LogisticRegression</td>\n",
       "      <td>0.611</td>\n",
       "      <td>0.389</td>\n",
       "      <td>0.389</td>\n",
       "      <td>0.624</td>\n",
       "    </tr>\n",
       "    <tr>\n",
       "      <th>1</th>\n",
       "      <td>DecisionTreeClassifier</td>\n",
       "      <td>0.563</td>\n",
       "      <td>0.437</td>\n",
       "      <td>0.437</td>\n",
       "      <td>0.661</td>\n",
       "    </tr>\n",
       "    <tr>\n",
       "      <th>2</th>\n",
       "      <td>RandomForestClassifier</td>\n",
       "      <td>0.549</td>\n",
       "      <td>0.451</td>\n",
       "      <td>0.451</td>\n",
       "      <td>0.671</td>\n",
       "    </tr>\n",
       "    <tr>\n",
       "      <th>3</th>\n",
       "      <td>SVC-rbf</td>\n",
       "      <td>0.611</td>\n",
       "      <td>0.389</td>\n",
       "      <td>0.389</td>\n",
       "      <td>0.624</td>\n",
       "    </tr>\n",
       "    <tr>\n",
       "      <th>4</th>\n",
       "      <td>DecisionTreeClassifier_criterion = entropy</td>\n",
       "      <td>0.563</td>\n",
       "      <td>0.437</td>\n",
       "      <td>0.437</td>\n",
       "      <td>0.661</td>\n",
       "    </tr>\n",
       "  </tbody>\n",
       "</table>\n",
       "</div>"
      ],
      "text/plain": [
       "                                        Model  accuracy_score    MAE    MSE  \\\n",
       "0                          LogisticRegression           0.611  0.389  0.389   \n",
       "1                      DecisionTreeClassifier           0.563  0.437  0.437   \n",
       "2                      RandomForestClassifier           0.549  0.451  0.451   \n",
       "3                                     SVC-rbf           0.611  0.389  0.389   \n",
       "4  DecisionTreeClassifier_criterion = entropy           0.563  0.437  0.437   \n",
       "\n",
       "    RMSE  \n",
       "0  0.624  \n",
       "1  0.661  \n",
       "2  0.671  \n",
       "3  0.624  \n",
       "4  0.661  "
      ]
     },
     "execution_count": 133,
     "metadata": {},
     "output_type": "execute_result"
    }
   ],
   "source": [
    "pd.DataFrame(score, columns=['Model', 'accuracy_score', 'MAE', 'MSE', 'RMSE'])"
   ]
  },
  {
   "cell_type": "code",
   "execution_count": 134,
   "id": "920e169c",
   "metadata": {},
   "outputs": [
    {
     "data": {
      "text/plain": [
       "<AxesSubplot: xlabel='Model'>"
      ]
     },
     "execution_count": 134,
     "metadata": {},
     "output_type": "execute_result"
    },
    {
     "data": {
      "image/png": "[encoded data removed]",
      "text/plain": [
       "<Figure size 1800x1000 with 1 Axes>"
      ]
     },
     "metadata": {},
     "output_type": "display_data"
    }
   ],
   "source": [
    "pd.DataFrame(score, columns=['Model','accuracy_score', 'MAE', 'MSE', 'RMSE']).plot(x=\"Model\"\n",
    "                                                                                   , y=[\"accuracy_score\", \"MAE\"]\n",
    "                                                                                   , kind=\"bar\", figsize=(18,10))"
   ]
  },
  {
   "cell_type": "code",
   "execution_count": null,
   "id": "0feb0e35",
   "metadata": {},
   "outputs": [],
   "source": []
  },
  {
   "cell_type": "code",
   "execution_count": null,
   "id": "3b7074fe",
   "metadata": {},
   "outputs": [],
   "source": []
  },
  {
   "cell_type": "code",
   "execution_count": 65,
   "id": "0d4cb639",
   "metadata": {},
   "outputs": [],
   "source": []
  },
  {
   "cell_type": "code",
   "execution_count": 69,
   "id": "8d0bb34b",
   "metadata": {},
   "outputs": [],
   "source": []
  },
  {
   "cell_type": "code",
   "execution_count": null,
   "id": "46e1c7fe",
   "metadata": {},
   "outputs": [],
   "source": []
  }
 ],
 "metadata": {
  "kernelspec": {
   "display_name": "Python 3 (ipykernel)",
   "language": "python",
   "name": "python3"
  },
  "language_info": {
   "codemirror_mode": {
    "name": "ipython",
    "version": 3
   },
   "file_extension": ".py",
   "mimetype": "text/x-python",
   "name": "python",
   "nbconvert_exporter": "python",
   "pygments_lexer": "ipython3",
   "version": "3.9.13"
  }
 },
 "nbformat": 4,
 "nbformat_minor": 5
}
